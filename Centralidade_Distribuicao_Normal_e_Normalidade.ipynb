{
  "nbformat": 4,
  "nbformat_minor": 0,
  "metadata": {
    "kernelspec": {
      "display_name": "Python 3",
      "language": "python",
      "name": "python3"
    },
    "language_info": {
      "codemirror_mode": {
        "name": "ipython",
        "version": 3
      },
      "file_extension": ".py",
      "mimetype": "text/x-python",
      "name": "python",
      "nbconvert_exporter": "python",
      "pygments_lexer": "ipython3",
      "version": "3.8.5"
    },
    "colab": {
      "name": "Centralidade_Distribuicao_Normal_e_Normalidade.ipynb",
      "provenance": [],
      "include_colab_link": true
    }
  },
  "cells": [
    {
      "cell_type": "markdown",
      "metadata": {
        "id": "view-in-github",
        "colab_type": "text"
      },
      "source": [
        "<a href=\"https://colab.research.google.com/github/FilipeSquire/Statistics-Tools/blob/main/Centralidade_Distribuicao_Normal_e_Normalidade.ipynb\" target=\"_parent\"><img src=\"https://colab.research.google.com/assets/colab-badge.svg\" alt=\"Open In Colab\"/></a>"
      ]
    },
    {
      "cell_type": "code",
      "metadata": {
        "id": "0fbhiNpr2mCM"
      },
      "source": [
        "import numpy as np"
      ],
      "execution_count": null,
      "outputs": []
    },
    {
      "cell_type": "code",
      "metadata": {
        "id": "Sn99ROxh2mCT"
      },
      "source": [
        "from scipy import stats"
      ],
      "execution_count": null,
      "outputs": []
    },
    {
      "cell_type": "markdown",
      "metadata": {
        "id": "MHbFe-J82mCU"
      },
      "source": [
        "# Medidas de Centralidade"
      ]
    },
    {
      "cell_type": "code",
      "metadata": {
        "id": "aOF1rPoP2mCU",
        "outputId": "d8881cb3-4fb5-4d30-87d5-0087672767b3"
      },
      "source": [
        "#criando variaveis com dados\n",
        "jogadores = [4000, 18000, 12000,25000, 3000, 14000, 300000, 40000, 800000]\n",
        "np.mean(jogadores)"
      ],
      "execution_count": null,
      "outputs": [
        {
          "output_type": "execute_result",
          "data": {
            "text/plain": [
              "135111.11111111112"
            ]
          },
          "metadata": {
            "tags": []
          },
          "execution_count": 3
        }
      ]
    },
    {
      "cell_type": "code",
      "metadata": {
        "id": "hjfclrtH2mCV",
        "outputId": "92c0f5d4-2bfa-47ca-a4cc-867e5dc89e80"
      },
      "source": [
        "np.median(jogadores)"
      ],
      "execution_count": null,
      "outputs": [
        {
          "output_type": "execute_result",
          "data": {
            "text/plain": [
              "18000.0"
            ]
          },
          "metadata": {
            "tags": []
          },
          "execution_count": 4
        }
      ]
    },
    {
      "cell_type": "code",
      "metadata": {
        "id": "r_gmjMai2mCV",
        "outputId": "5b001dea-f7c1-4f7f-ead4-f0762a1b3ce8"
      },
      "source": [
        "#criar variavel para gerar quartis\n",
        "quartis = np.quantile(jogadores, [0,0.25,0.5,0.75,1])\n",
        "quartis"
      ],
      "execution_count": null,
      "outputs": [
        {
          "output_type": "execute_result",
          "data": {
            "text/plain": [
              "array([  3000.,  12000.,  18000.,  40000., 800000.])"
            ]
          },
          "metadata": {
            "tags": []
          },
          "execution_count": 8
        }
      ]
    },
    {
      "cell_type": "code",
      "metadata": {
        "id": "zQDR2E2-2mCW",
        "outputId": "ae082057-c0f0-43a3-de2f-26f34e126c67"
      },
      "source": [
        "#desvio padrao\n",
        "np.std(jogadores, ddof = 1)"
      ],
      "execution_count": null,
      "outputs": [
        {
          "output_type": "execute_result",
          "data": {
            "text/plain": [
              "266603.3779064157"
            ]
          },
          "metadata": {
            "tags": []
          },
          "execution_count": 10
        }
      ]
    },
    {
      "cell_type": "code",
      "metadata": {
        "id": "6eg-YJdV2mCW",
        "outputId": "c6edfda3-730b-4d35-fbcd-959306dd14ab"
      },
      "source": [
        "#visualizacao\n",
        "stats.describe(jogadores)"
      ],
      "execution_count": null,
      "outputs": [
        {
          "output_type": "execute_result",
          "data": {
            "text/plain": [
              "DescribeResult(nobs=9, minmax=(3000, 800000), mean=135111.11111111112, variance=71077361111.11111, skewness=2.0039188929601632, kurtosis=2.501236288223838)"
            ]
          },
          "metadata": {
            "tags": []
          },
          "execution_count": 13
        }
      ]
    },
    {
      "cell_type": "markdown",
      "metadata": {
        "id": "auaG-gFw2mCW"
      },
      "source": [
        "# Distribuicao Normal"
      ]
    },
    {
      "cell_type": "code",
      "metadata": {
        "id": "Vhyj4mV52mCX"
      },
      "source": [
        "from scipy.stats import norm"
      ],
      "execution_count": null,
      "outputs": []
    },
    {
      "cell_type": "code",
      "metadata": {
        "id": "BR5gGIVp2mCX",
        "outputId": "90135d10-2696-4878-beed-3568da8a296d"
      },
      "source": [
        "#Dado conjunto de objetos de média 8 e desvpad 2\n",
        "#Qual a probabilidade de tirar um objeto com peso <6kg?\n",
        "norm.cdf(6, 8, 2) #cdf para probabilidades a esquerda (menor q media)"
      ],
      "execution_count": null,
      "outputs": [
        {
          "output_type": "execute_result",
          "data": {
            "text/plain": [
              "0.15865525393145707"
            ]
          },
          "metadata": {
            "tags": []
          },
          "execution_count": 15
        }
      ]
    },
    {
      "cell_type": "code",
      "metadata": {
        "id": "YPl75Hxv2mCX",
        "outputId": "d35e3150-f98a-41ad-9371-9fed2b909e9e"
      },
      "source": [
        "#Qual a probabilidade de tirar um objeto >6kg?\n",
        "norm.sf(6,8,2) #sf para probabilidades a direita (maior q media)\n",
        "1 - norm.cdf(6,8,2)"
      ],
      "execution_count": null,
      "outputs": [
        {
          "output_type": "execute_result",
          "data": {
            "text/plain": [
              "0.8413447460685429"
            ]
          },
          "metadata": {
            "tags": []
          },
          "execution_count": 16
        }
      ]
    },
    {
      "cell_type": "code",
      "metadata": {
        "id": "rDltNcj42mCY",
        "outputId": "c4ca85f1-90a1-49dc-dd92-90fd942342b9"
      },
      "source": [
        "#Qual a probabilidade de tirar um objeto que o peso é <6kg ou >10kg?\n",
        "norm.cdf(6,8,2) + norm.sf(10,8,2)"
      ],
      "execution_count": null,
      "outputs": [
        {
          "output_type": "execute_result",
          "data": {
            "text/plain": [
              "0.31731050786291415"
            ]
          },
          "metadata": {
            "tags": []
          },
          "execution_count": 17
        }
      ]
    },
    {
      "cell_type": "code",
      "metadata": {
        "id": "aDDrAiaD2mCY",
        "outputId": "12a41611-0532-41ed-ab3a-7a9446defb2b"
      },
      "source": [
        "#Qual a probabilidade de tirar um objeto com peso <10 e >8?\n",
        "norm.cdf(10,8,2) - norm.cdf(8,8,2)"
      ],
      "execution_count": null,
      "outputs": [
        {
          "output_type": "execute_result",
          "data": {
            "text/plain": [
              "0.3413447460685429"
            ]
          },
          "metadata": {
            "tags": []
          },
          "execution_count": 18
        }
      ]
    },
    {
      "cell_type": "markdown",
      "metadata": {
        "id": "kqAvi_sy2mCY"
      },
      "source": [
        "# Teste de Normalidade"
      ]
    },
    {
      "cell_type": "code",
      "metadata": {
        "id": "KRYT298D2mCZ"
      },
      "source": [
        "from scipy import stats\n",
        "from scipy.stats import norm, skewnorm\n",
        "import matplotlib.pyplot as plt"
      ],
      "execution_count": null,
      "outputs": []
    },
    {
      "cell_type": "code",
      "metadata": {
        "id": "k_NMqve32mCZ",
        "outputId": "b45b9f87-d41d-40ee-bfec-469cfb7d57b9"
      },
      "source": [
        "#Criacao de variavel com dados em uma distribuicao normal\n",
        "dados = norm.rvs(size = 1000)\n",
        "dados"
      ],
      "execution_count": null,
      "outputs": [
        {
          "output_type": "execute_result",
          "data": {
            "text/plain": [
              "array([-3.21093113e-01, -1.21038189e+00,  9.95100607e-01,  3.62405176e-01,\n",
              "        1.02996790e+00,  9.46105371e-01, -1.76342745e+00, -1.40639623e+00,\n",
              "       -1.45488398e+00, -3.97828529e-01, -9.06954155e-02,  1.90598426e+00,\n",
              "        4.83865440e-01, -7.90331907e-01, -1.04640022e+00,  1.71031081e-01,\n",
              "       -8.95039863e-01,  6.65394795e-01, -2.95501260e-01,  1.36487150e+00,\n",
              "       -1.41543462e+00, -6.42300217e-01, -2.32189605e+00,  4.37386945e-01,\n",
              "       -4.80191989e-01, -1.64331915e+00,  9.78333292e-01, -8.42664178e-01,\n",
              "       -1.55845842e+00,  1.41712574e-01, -3.26357341e-01, -2.98085027e-01,\n",
              "        6.57898503e-01,  7.51861634e-01, -3.48568511e-01, -1.28417540e+00,\n",
              "        1.43306616e+00, -4.31953464e-01,  2.72286810e-02, -8.42821359e-01,\n",
              "        1.85006649e-01,  1.19359606e+00,  3.23661545e-01, -1.32892813e-01,\n",
              "       -7.99077827e-01, -1.19656503e+00,  5.01044312e-01,  6.82142160e-01,\n",
              "       -1.71186705e+00, -4.32666446e-01,  7.59053919e-01,  1.28325651e+00,\n",
              "       -2.28065267e-01, -8.92512761e-01,  6.57066402e-01,  9.86319624e-01,\n",
              "       -1.56025432e+00, -1.02739919e+00,  7.33845889e-02, -1.60466768e+00,\n",
              "       -5.90673534e-01, -4.75986321e-01,  5.81402105e-01, -5.25655655e-01,\n",
              "       -1.32112130e+00, -1.77019744e+00, -3.72925345e-01,  6.17780410e-02,\n",
              "       -1.84075531e-01, -1.79231189e+00, -6.47047154e-01,  8.93545270e-01,\n",
              "        7.38492533e-01,  5.82428127e-01, -1.34141144e-01,  5.63033955e-01,\n",
              "       -5.38893258e-01,  2.24705975e+00,  2.05993672e-01, -1.23265677e+00,\n",
              "       -1.14672922e-01, -5.64774733e-01, -2.16860566e+00, -5.53300898e-01,\n",
              "       -7.34686450e-01, -6.42064531e-02, -9.12635174e-01, -2.95632843e-01,\n",
              "        1.33847531e+00, -1.00972146e-01, -1.04391430e+00,  9.59158113e-01,\n",
              "        1.15914577e+00,  1.66184976e+00,  3.89912286e-02, -3.43475869e-01,\n",
              "       -5.57023533e-01,  4.64137130e-01,  1.65955660e+00,  2.53294463e+00,\n",
              "       -4.65811975e-01,  6.02081551e-01, -2.95927821e-01,  1.10345352e+00,\n",
              "       -1.35071908e+00, -8.52443697e-01,  9.55186942e-01,  7.18601369e-01,\n",
              "        4.71633148e-01, -5.15441654e-01,  1.39011539e-01,  7.49113643e-01,\n",
              "       -5.29450540e-01,  7.62601545e-01,  1.55518560e+00, -8.74034843e-01,\n",
              "       -1.49851779e+00, -4.46915921e-01,  5.16066472e-01,  1.42979595e+00,\n",
              "        5.28923610e-01, -2.12302783e+00, -4.61580177e-01, -4.77431399e-01,\n",
              "       -1.36885967e+00,  1.85713712e-01, -1.81867114e-01, -1.52383110e+00,\n",
              "       -7.33229663e-02,  9.67986318e-01, -1.99222879e+00, -8.05510055e-01,\n",
              "        5.48582901e-01, -1.04883836e+00,  1.36750991e+00, -5.92820327e-01,\n",
              "       -1.24175582e+00, -2.83879753e-01, -1.25134961e-01, -1.99165616e+00,\n",
              "       -1.15261145e+00, -1.25784110e+00, -2.85526697e-01, -1.19064375e+00,\n",
              "        6.13552893e-01, -7.67991389e-01,  1.42307526e+00, -9.06538200e-01,\n",
              "        6.08122310e-01, -3.28834622e-01,  3.47551223e-01,  1.07548580e+00,\n",
              "       -5.48665861e-01,  3.18315864e-01, -1.05474801e+00, -4.87773971e-01,\n",
              "       -5.65686682e-02, -3.83210820e-02, -1.57931073e-02,  2.55744420e-01,\n",
              "       -1.19202402e+00,  4.18217407e-01,  3.02105385e-01, -1.12483638e+00,\n",
              "       -5.38466524e-01, -2.30657583e-03,  3.91717046e-01, -2.28712072e+00,\n",
              "       -1.10200937e-01,  2.22673251e-01,  2.13340006e+00,  4.82162583e-01,\n",
              "       -8.54938167e-02,  3.74990435e-02, -1.07942284e+00, -2.33682937e+00,\n",
              "        2.90507755e-02, -6.30210324e-01, -6.07646571e-01, -1.44622928e+00,\n",
              "       -1.04207334e+00, -1.52734760e+00,  1.23194294e+00,  1.99483200e-01,\n",
              "        1.95498515e-01,  4.68074687e-01,  8.12411164e-01, -5.65411552e-01,\n",
              "        1.30167053e-01, -1.02664230e+00, -1.32737505e-01,  1.88228978e+00,\n",
              "        6.16479180e-02, -6.95129924e-01,  8.12758285e-01,  4.17942324e-02,\n",
              "       -7.80456130e-01, -5.89507708e-01,  9.44173524e-01, -6.56589191e-01,\n",
              "        1.22491525e+00,  2.30260713e-01,  3.71062460e-01,  6.00705302e-01,\n",
              "       -6.16541832e-01,  1.00920937e+00, -2.86342119e-01,  1.44396102e+00,\n",
              "       -1.02649495e+00,  3.19714685e+00, -4.63933886e-01, -5.66039959e-01,\n",
              "       -4.18094782e-01, -1.16213456e+00, -2.93225076e-01, -1.05394434e+00,\n",
              "        1.25156345e-01,  2.74522197e-01, -1.73378567e-01,  1.46981111e+00,\n",
              "        6.66657930e-01, -1.97756029e-01,  3.27132152e-01, -4.38960778e-01,\n",
              "       -4.23804853e-01, -8.63315906e-01, -1.25756022e+00,  6.36106874e-01,\n",
              "        1.46274342e+00,  8.96144316e-01,  5.64507749e-01,  2.37015910e+00,\n",
              "       -1.84259978e+00, -1.27383329e+00,  1.53959719e-01,  1.21258709e+00,\n",
              "        4.73322489e-01, -3.11370896e-01,  2.55639235e-01,  3.33281934e-02,\n",
              "       -4.74236037e-01, -7.56437758e-01, -4.01128809e-01, -9.09870322e-01,\n",
              "       -2.71258598e+00,  7.00719286e-01, -2.35742140e-01,  7.93460966e-01,\n",
              "        7.97644498e-01, -1.25903206e+00, -1.40356248e+00,  1.54075107e+00,\n",
              "       -1.01687612e+00, -2.64939231e-01,  9.28934846e-01,  7.04580036e-01,\n",
              "        2.09889952e-01, -6.61629206e-01,  4.43547262e-01, -1.37510008e+00,\n",
              "       -1.16145686e-01,  2.37055506e+00,  9.60895938e-01, -1.09883373e+00,\n",
              "       -5.98306026e-01,  2.08085520e+00,  5.86594218e-01, -8.14139377e-01,\n",
              "        6.61728001e-02, -1.13674447e+00,  4.51270571e-01,  5.58924488e-01,\n",
              "        5.59767770e-02,  6.60748617e-01,  6.22104416e-01, -9.53487081e-01,\n",
              "        1.18361462e-01,  4.04457055e-01, -3.43643807e-01,  1.55433296e-01,\n",
              "        3.16577763e-01,  2.47001918e-01,  8.07323366e-02,  2.49265351e-01,\n",
              "       -1.30695738e-02,  1.05853647e+00, -1.21722604e+00, -2.41167498e-01,\n",
              "       -2.21694556e+00,  3.17922298e-02,  1.09311103e+00,  5.18523825e-01,\n",
              "       -1.99961792e+00, -7.13896187e-02,  1.51650021e-01, -3.88431668e-01,\n",
              "        7.67351626e-01,  7.57390332e-01,  2.14167308e-01,  1.53935585e-01,\n",
              "        1.25820637e+00, -8.40739095e-01, -1.19023917e+00, -3.75435467e-01,\n",
              "       -3.51882535e-01, -3.69533042e-02, -1.44166742e+00,  7.72503347e-01,\n",
              "       -3.01442545e-01, -4.18888057e-01,  3.88594066e-01,  3.08546591e-01,\n",
              "       -8.91953804e-01, -3.81980609e-01, -1.64338610e-03,  5.04094369e-01,\n",
              "        8.89290136e-02, -1.73257107e+00, -2.02342687e+00,  1.14635020e-01,\n",
              "       -1.05965908e+00, -2.55768446e-01,  1.81986223e+00,  2.07906754e+00,\n",
              "       -1.42847105e+00,  1.00610179e+00,  2.39501967e-01,  1.36528853e-01,\n",
              "        5.04755734e-01,  6.95937017e-01,  8.88276834e-01, -1.39747115e+00,\n",
              "       -1.66482818e+00,  1.21703598e+00,  3.15352486e-01, -3.69674853e-01,\n",
              "        7.62503977e-01,  3.40327023e-01, -6.87716528e-02, -4.95776524e-01,\n",
              "        9.75031621e-01,  4.19476393e-02,  7.70642288e-01,  5.61265031e-02,\n",
              "        2.09303376e+00, -3.54165602e-01,  8.41745991e-02, -8.21772145e-01,\n",
              "       -2.60823350e-01, -2.95110210e-01,  3.16198184e-01, -1.02167691e+00,\n",
              "        6.34189221e-02, -7.43786587e-01,  1.71271109e+00, -2.14108450e-01,\n",
              "        1.85644230e-01, -1.27294265e+00, -1.21965306e+00,  5.20734832e-02,\n",
              "        9.32578339e-01, -2.91742114e-01,  1.68038261e+00, -4.55876456e-01,\n",
              "        1.39095919e+00,  3.08961927e-01,  7.67195301e-01, -7.38732035e-01,\n",
              "       -4.58663001e-01,  6.80051154e-01, -6.24130537e-01,  2.61106491e-01,\n",
              "       -1.64525982e-01, -7.44934602e-01,  1.19600479e+00,  6.53477840e-02,\n",
              "        1.46053406e+00,  1.88458098e-02, -1.53706022e+00,  2.64623456e-01,\n",
              "       -1.71476734e+00, -3.90932620e-01, -6.14077796e-02,  3.34319311e-01,\n",
              "       -5.67739345e-01,  1.03230153e-01, -7.51277693e-01,  4.20198742e-01,\n",
              "        9.02578752e-01,  1.45403232e+00, -6.45055273e-01,  5.69685502e-01,\n",
              "       -5.35234344e-01, -1.74934473e+00, -6.62601840e-01,  1.46420850e+00,\n",
              "        1.47156250e-02,  1.29472520e+00, -6.37993834e-01,  9.90180491e-01,\n",
              "       -1.94905413e-01,  2.12993916e+00, -4.81163386e-01,  1.33767012e-01,\n",
              "       -5.62225670e-01,  8.18869162e-02, -1.64554576e+00,  1.31996226e+00,\n",
              "       -1.13556989e+00, -1.85659860e-01,  3.51102084e-01, -9.09840939e-02,\n",
              "        3.23375459e-01, -9.03515704e-01,  1.35037802e+00, -1.56925126e+00,\n",
              "       -4.55574675e-01,  6.11743590e-01, -1.62960365e-01, -2.17817482e-01,\n",
              "        6.45698933e-02,  4.65388848e-01,  6.65664042e-01, -1.28585899e-01,\n",
              "        1.37677278e+00,  1.05346964e+00,  6.97929738e-01,  1.31632899e+00,\n",
              "        1.74962045e+00, -1.04372844e+00,  1.68903586e-01, -8.51187709e-01,\n",
              "       -4.49693003e-01,  7.98858920e-01,  5.87320660e-01, -2.62276161e-01,\n",
              "        8.57207705e-01,  6.18669485e-01, -9.33876728e-01,  2.80877715e-01,\n",
              "        1.84780086e-01,  2.48688456e-01, -1.42645239e+00, -3.37313433e-01,\n",
              "       -2.36454637e+00, -3.76969009e-01,  2.02318545e-01,  5.56990413e-01,\n",
              "        1.31173985e+00,  1.00498452e+00,  9.06488352e-01,  7.33004802e-01,\n",
              "       -2.70188269e+00, -3.73363167e-01,  1.21167620e+00,  2.28011421e-02,\n",
              "       -5.04326238e-01,  6.59649300e-01, -1.46724463e+00, -1.13197792e+00,\n",
              "        4.88299126e-02, -1.41588287e+00, -5.65932910e-01, -1.65197424e-01,\n",
              "        1.08503361e+00, -1.06132727e+00, -7.34994501e-01,  1.52066581e+00,\n",
              "       -1.66030039e+00, -1.27215190e-02, -2.62931922e-01, -1.12124681e+00,\n",
              "       -1.18681048e+00,  4.19774116e-01,  1.38121485e+00,  2.41188365e+00,\n",
              "       -6.38134176e-01, -2.81153919e-01,  2.48499216e+00, -5.43464320e-01,\n",
              "        1.88876011e+00,  1.29087584e+00, -6.81687510e-01, -8.52402191e-01,\n",
              "        4.73050168e-01, -1.51240737e+00,  5.73143158e-01,  1.01040101e+00,\n",
              "        1.19230152e+00, -9.04456857e-01,  3.56124689e-01,  6.51606799e-01,\n",
              "       -1.49057231e-01, -8.96391529e-01,  1.27845505e+00,  2.12433517e+00,\n",
              "       -9.67992769e-02,  2.65705020e-01,  8.92080940e-01,  1.41952354e+00,\n",
              "        1.24853339e+00, -1.05141735e+00, -3.42941326e-01, -2.09327188e-01,\n",
              "        7.35491955e-01, -8.47919012e-01,  9.31126960e-01, -2.04200751e+00,\n",
              "        1.56396995e+00, -6.80856561e-01, -8.31770023e-01,  1.02088113e+00,\n",
              "        1.39947767e-01, -6.87501331e-01,  6.85403438e-01,  8.99168730e-01,\n",
              "       -1.03009242e+00,  6.12084610e-01, -2.64423693e-01,  5.48283703e-01,\n",
              "        1.25663369e+00,  5.87202998e-01,  1.07320111e+00, -2.68006146e-01,\n",
              "       -5.47271318e-02, -1.42665989e+00,  7.02213395e-01,  6.27028181e-02,\n",
              "        2.19922560e+00,  6.04866392e-01, -1.26518276e+00,  9.41830947e-01,\n",
              "       -9.60523460e-01,  8.63780071e-01,  2.51127230e-01,  1.70331592e+00,\n",
              "        1.02775546e+00,  3.18645675e-01,  1.23003871e+00, -1.76992896e+00,\n",
              "       -2.30489312e-01, -1.70075831e-01,  8.58096299e-01, -4.52895933e-02,\n",
              "        5.24636936e-01,  1.59845891e+00, -5.91505353e-01, -1.62590944e+00,\n",
              "        9.93677695e-01, -7.57361584e-01, -7.96431618e-01,  2.49828615e-01,\n",
              "        1.36450912e-01,  1.21386066e+00,  1.16130106e+00, -1.32740634e-01,\n",
              "       -2.32772246e-01, -3.92340607e-01, -6.04942562e-01,  3.56589886e-01,\n",
              "        2.99872094e-02, -1.36593547e-01, -1.00993566e-02,  1.32117300e+00,\n",
              "        1.32199756e-01,  7.92941708e-01, -2.14300183e+00, -7.96344148e-01,\n",
              "       -1.93675255e+00, -2.53312293e-01,  4.54834116e-01, -5.05644575e-01,\n",
              "        1.01302649e-01,  5.45025057e-01,  1.84011922e-01,  1.16782298e+00,\n",
              "       -4.64403824e-01,  1.05435116e-01, -1.71051825e-01, -2.42267592e+00,\n",
              "        1.64437980e+00,  7.68327348e-02,  4.84283159e-01, -9.25098787e-01,\n",
              "        4.66941960e-01,  1.17482720e-01,  4.21699894e-01,  1.51574351e+00,\n",
              "       -6.10773366e-01, -1.99670775e-01, -1.13368695e+00, -1.47130989e-02,\n",
              "       -1.35272257e+00,  1.92493649e+00,  1.66669225e+00,  2.60140285e-01,\n",
              "       -1.16065999e+00,  2.24554064e+00,  1.68709762e+00,  4.24671057e-01,\n",
              "        9.85297446e-02, -2.32569101e-01,  3.39060904e-01, -1.23687002e-01,\n",
              "        9.63954155e-01, -1.82991869e-01, -2.94716305e-01,  2.59546278e-01,\n",
              "        1.82984285e-01, -6.50683995e-03, -2.51686438e-01,  1.99929983e-02,\n",
              "        6.19252264e-01, -2.16953308e-01, -1.16776721e+00, -4.70742105e-01,\n",
              "        1.95738982e-01,  8.91512267e-01, -1.92710559e+00, -5.50727931e-01,\n",
              "        1.69286994e+00, -2.79605790e-01, -5.47963830e-01, -2.35290212e-01,\n",
              "       -9.92500402e-01,  4.35016621e-01,  1.24672948e+00,  6.15074132e-01,\n",
              "        5.85934730e-01,  6.24995975e-01,  5.21124417e-01,  3.45612690e-01,\n",
              "        1.00108070e-01,  2.21084701e-01,  5.68729181e-01, -1.18483754e+00,\n",
              "        1.31550402e+00,  5.85536354e-01, -9.63657064e-01,  9.32171922e-01,\n",
              "        8.92286625e-01, -1.68210149e+00, -1.22205722e+00,  8.33929952e-01,\n",
              "        1.33180234e+00,  1.36498285e-01,  1.77126544e+00, -4.54810622e-01,\n",
              "        1.04225648e+00, -5.87213444e-01,  6.15466183e-01,  1.76418335e-01,\n",
              "        1.21562902e+00, -8.41788659e-01, -1.21297735e+00,  1.47516616e-01,\n",
              "        1.42773794e+00, -7.01276985e-01,  9.60391623e-02,  2.74948812e-02,\n",
              "       -7.96627834e-01,  6.88006407e-02, -1.37551099e-01, -3.95658204e-01,\n",
              "        8.48327057e-01,  4.34125772e-01,  6.07698459e-01, -1.12917684e+00,\n",
              "        1.29370835e+00, -1.00268150e+00, -1.76738178e+00, -2.20908486e-01,\n",
              "       -1.19633070e-01, -1.19421915e+00, -8.80417249e-01, -6.85983329e-01,\n",
              "       -4.41427175e-01,  2.11280031e-01, -1.20837251e+00,  1.84654411e-02,\n",
              "       -2.47511915e-01,  1.76642194e-01, -5.89796535e-01,  1.87427591e+00,\n",
              "       -1.41236137e+00, -8.29236403e-01,  1.02645434e+00,  2.03537637e+00,\n",
              "        2.43029111e-02, -1.95420713e-02, -1.43341714e+00,  7.80585136e-01,\n",
              "        1.45532029e-01, -3.08640919e-01,  1.26813561e+00,  1.75027481e+00,\n",
              "       -2.70595304e-01, -9.35108225e-01, -4.05126261e-01,  1.94675118e+00,\n",
              "        1.10852653e-01,  2.55398424e+00,  7.77630930e-01, -1.14367560e+00,\n",
              "       -3.63624805e-02,  1.24113254e+00, -9.76088487e-01,  9.78276888e-01,\n",
              "        7.57367616e-01,  3.27175202e-01, -5.63833308e-01,  1.05012866e+00,\n",
              "        3.42125939e-02,  8.56274290e-01,  5.75771465e-02,  2.04819173e+00,\n",
              "       -1.18421384e+00,  7.95661333e-01, -2.98077105e-01, -1.22174115e-01,\n",
              "        4.18551116e-02,  1.18224090e-02, -3.38470200e-02,  8.52351516e-02,\n",
              "        1.67527918e+00,  3.18754478e-01, -1.76164753e-02,  1.21654324e+00,\n",
              "        3.21515449e-01,  6.63422100e-01, -4.23773705e-01,  8.97339616e-01,\n",
              "       -6.83431058e-01,  1.19931070e+00, -3.10927895e-01,  2.83492376e-01,\n",
              "        7.55776168e-01,  3.41558803e-01,  2.01783348e-01, -7.01587690e-02,\n",
              "        6.26860149e-01, -1.84192758e-01, -4.67026800e-01, -4.43621558e-01,\n",
              "        2.90556893e-02,  1.37848900e+00,  4.28384827e-01, -2.06520883e-01,\n",
              "       -9.87059217e-01, -5.02475189e-01, -8.39863308e-01, -4.24900685e-01,\n",
              "       -1.29212169e+00,  1.90631124e+00,  5.11808666e-01,  7.35994518e-01,\n",
              "        2.53777910e-01, -2.63649887e+00,  1.04906259e+00, -2.71688174e-01,\n",
              "        1.86983321e+00, -9.95212429e-01, -2.82249012e-01, -1.21352150e+00,\n",
              "       -8.39645404e-01, -7.16477775e-02,  4.70886232e-01,  7.75333451e-01,\n",
              "       -2.22910983e-01, -9.47057237e-01,  5.97065818e-01, -8.88863972e-01,\n",
              "       -1.03478409e+00,  5.02430008e-01, -2.62157592e-01,  1.00940113e+00,\n",
              "        1.23506209e+00, -8.45645400e-01, -4.35377593e-01,  1.46593860e+00,\n",
              "       -3.23800610e-01,  3.42353636e-01, -2.81462789e-01,  3.20595193e-02,\n",
              "       -1.98207081e-01,  1.92564702e-01, -1.47487092e+00, -3.55652325e-02,\n",
              "        9.86598599e-01,  9.90021806e-01, -1.12825464e+00, -2.52241279e+00,\n",
              "       -4.32216818e-01, -1.07143421e+00, -1.70005803e+00,  7.28826965e-01,\n",
              "       -7.95416493e-01,  3.75403130e-01, -1.46662729e+00,  1.97863465e+00,\n",
              "        1.91611186e-01,  6.33763584e-01, -5.25309188e-01, -2.32724270e-01,\n",
              "       -4.89455232e-01,  4.62842233e-01, -3.80097284e-01, -8.03609795e-01,\n",
              "        2.49739563e-01,  1.14971722e+00,  8.93540807e-02,  1.18663357e+00,\n",
              "        1.12298058e+00,  9.86180635e-02, -7.16107009e-01, -7.50723401e-01,\n",
              "        4.70184230e-02, -8.57986321e-01, -1.46181342e+00,  9.05914536e-01,\n",
              "        8.12989277e-01,  1.44981055e+00,  4.53541045e-01,  8.34745657e-01,\n",
              "       -7.62268004e-01, -3.97877234e-01, -7.71995516e-02,  3.26151053e-02,\n",
              "       -9.21131629e-01, -5.76180139e-02, -3.24461487e-01,  7.59309841e-02,\n",
              "        8.67827715e-01,  1.55134029e+00, -1.46041367e+00,  1.08181407e-01,\n",
              "        4.80346131e-01, -1.94953125e+00, -3.32894274e-01, -4.32118816e-02,\n",
              "        2.18633814e-01, -7.20194562e-01,  6.80969148e-01,  4.87659767e-02,\n",
              "        6.34153744e-02, -8.71640200e-01, -1.18247488e+00,  2.73076909e-01,\n",
              "        6.73139486e-01, -1.31937016e-01,  9.69411370e-01,  1.22533661e+00,\n",
              "       -1.81568936e+00,  1.55703918e+00,  1.38097806e+00, -4.22193510e-02,\n",
              "       -1.56763236e-01, -1.48026746e+00, -1.19208925e+00, -4.48023483e-01,\n",
              "       -1.97146771e+00, -3.98107098e-01, -1.25299960e+00, -1.02573596e+00,\n",
              "       -9.95358195e-01, -7.46075208e-01,  3.60379213e-01, -3.46403288e-01,\n",
              "       -1.52801812e+00,  1.05184783e+00,  1.26008866e+00, -1.24194036e+00,\n",
              "        1.61597110e+00,  9.88908432e-01,  7.66176062e-01,  8.85826135e-01,\n",
              "       -9.33684386e-01,  4.43350182e-01,  1.32983767e-01, -1.55854288e+00,\n",
              "        3.73515711e-01, -2.31380085e-01,  5.65301878e-02, -6.49963124e-01,\n",
              "       -1.35325123e-01,  2.44193542e-01,  7.35390083e-01, -6.36391764e-02,\n",
              "       -1.03276715e+00,  1.20290291e+00,  1.17519942e-01,  5.05107660e-01,\n",
              "       -3.20321267e-01,  6.02545842e-01,  3.76661697e-01,  9.68705851e-01,\n",
              "        6.41938819e-01, -2.19791161e-01, -1.79614511e+00,  1.13576700e+00,\n",
              "       -1.62319779e+00,  1.42538896e+00, -2.79061115e+00,  6.04180807e-01,\n",
              "       -4.42903606e-03, -1.64710515e+00, -7.07928897e-01,  8.24284570e-01,\n",
              "        1.29789247e-01,  2.94912822e-01, -7.33370074e-01,  1.48709073e-02,\n",
              "        1.15806227e+00,  3.55412378e-01,  2.38259909e+00,  1.92642764e-01,\n",
              "        9.28880676e-01,  6.74013908e-01,  5.51060382e-01, -1.56957503e+00,\n",
              "       -7.16531716e-01, -6.43873637e-01,  1.12138374e+00, -5.10897808e-01,\n",
              "       -2.11942126e-01, -4.34220225e-01,  1.36695339e+00,  1.30283341e+00,\n",
              "        5.71381957e-01, -2.28302470e+00,  1.89344841e+00,  1.36002540e+00,\n",
              "       -7.45560682e-01,  6.29333101e-01,  1.14445200e-01,  2.84123632e-01,\n",
              "        1.63602592e-01, -3.42802565e-01,  1.36578757e-01, -9.08661237e-01,\n",
              "       -1.18554059e+00, -1.04987119e+00, -7.12648868e-01, -2.14893904e+00,\n",
              "        3.46041400e-01,  9.90326998e-01, -9.23838788e-01,  3.36744876e-02,\n",
              "        1.40709009e+00, -6.67203854e-01, -9.15431364e-02,  3.96063747e-01,\n",
              "       -7.60622661e-01,  3.86198458e-01,  4.17827677e-01, -4.42130402e-01,\n",
              "       -1.15411919e+00, -3.53478974e-01,  5.67838959e-01,  3.69220404e-01,\n",
              "        2.16129648e-01,  2.36153270e-01,  8.18565687e-01,  8.32958542e-02,\n",
              "        5.83107898e-01,  4.63859382e-01,  1.12414541e+00, -2.23572423e-01,\n",
              "        3.29070758e+00,  6.73960115e-01,  1.14993978e+00,  1.53308226e+00,\n",
              "        6.53042117e-01,  7.24435317e-01,  1.13435984e+00,  2.02201868e-01,\n",
              "        1.03794535e+00, -1.47043473e-01,  6.46548411e-02, -4.15868252e-01,\n",
              "        1.10587385e+00, -9.70879866e-01,  1.65143321e+00, -2.37994957e-01,\n",
              "       -1.71012765e+00, -5.04418513e-01, -2.59125076e-01, -1.03015222e+00,\n",
              "       -4.43790678e-01, -1.72854400e+00,  9.62564426e-01,  6.76122263e-01,\n",
              "        1.03872452e+00, -1.28264021e+00, -1.23464997e+00, -1.56353978e+00,\n",
              "        1.94819681e-01, -4.52719777e-01,  1.47427815e-01,  1.05536840e-02])"
            ]
          },
          "metadata": {
            "tags": []
          },
          "execution_count": 20
        }
      ]
    },
    {
      "cell_type": "code",
      "metadata": {
        "id": "q1Bd2Hhc2mCZ",
        "outputId": "293e639b-a7f4-4999-b1b6-e4a769a1ba46"
      },
      "source": [
        "#histograma\n",
        "plt.hist(dados, bins = 20)\n",
        "plt.title('Dados')"
      ],
      "execution_count": null,
      "outputs": [
        {
          "output_type": "execute_result",
          "data": {
            "text/plain": [
              "Text(0.5, 1.0, 'Dados')"
            ]
          },
          "metadata": {
            "tags": []
          },
          "execution_count": 21
        },
        {
          "output_type": "display_data",
          "data": {
            "image/png": "[encoded data removed]",
            "text/plain": [
              "<Figure size 432x288 with 1 Axes>"
            ]
          },
          "metadata": {
            "tags": [],
            "needs_background": "light"
          }
        }
      ]
    },
    {
      "cell_type": "code",
      "metadata": {
        "id": "zYqm59Ba2mCZ",
        "outputId": "1ebd8e8c-7910-4ab3-9301-010f735b08b8"
      },
      "source": [
        "#verificacao se é distribuicao normal\n",
        "fig, ax = plt.subplots()\n",
        "stats.probplot(dados, fit=True, plot=ax) #QQ PLOT\n",
        "plt.show()"
      ],
      "execution_count": null,
      "outputs": [
        {
          "output_type": "display_data",
          "data": {
            "image/png": "[encoded data removed]",
            "text/plain": [
              "<Figure size 432x288 with 1 Axes>"
            ]
          },
          "metadata": {
            "tags": [],
            "needs_background": "light"
          }
        }
      ]
    },
    {
      "cell_type": "markdown",
      "metadata": {
        "id": "xwigZSr42mCa"
      },
      "source": [
        "# Teste de Shapiro"
      ]
    },
    {
      "cell_type": "code",
      "metadata": {
        "id": "vlkkyFIs2mCa",
        "outputId": "6cabc5a8-2be1-4664-a625-cca1fa8f4a4a"
      },
      "source": [
        "#segundo argumento é o valor de p, onde nao ha como rejeitar a hipotese nula\n",
        "#alfa de 0,05\n",
        "#hipotese nula é que os dados estão normalmente distribuidos\n",
        "stats.shapiro(dados)"
      ],
      "execution_count": null,
      "outputs": [
        {
          "output_type": "execute_result",
          "data": {
            "text/plain": [
              "ShapiroResult(statistic=0.9990639686584473, pvalue=0.9040948152542114)"
            ]
          },
          "metadata": {
            "tags": []
          },
          "execution_count": 23
        }
      ]
    },
    {
      "cell_type": "code",
      "metadata": {
        "id": "YxPcFJEG2mCa"
      },
      "source": [
        "#Dados nao normais\n",
        "\n",
        "dados2 = skewnorm.rvs(4, size=1000) #base enviesada"
      ],
      "execution_count": null,
      "outputs": []
    },
    {
      "cell_type": "code",
      "metadata": {
        "id": "GK7BZyhv2mCa",
        "outputId": "bfdb503a-92ed-496b-f2ce-e043751e342a"
      },
      "source": [
        "#histograma\n",
        "plt.hist(dados2, bins = 20)\n",
        "plt.title('Dados')"
      ],
      "execution_count": null,
      "outputs": [
        {
          "output_type": "execute_result",
          "data": {
            "text/plain": [
              "Text(0.5, 1.0, 'Dados')"
            ]
          },
          "metadata": {
            "tags": []
          },
          "execution_count": 26
        },
        {
          "output_type": "display_data",
          "data": {
            "image/png": "[encoded data removed]",
            "text/plain": [
              "<Figure size 432x288 with 1 Axes>"
            ]
          },
          "metadata": {
            "tags": [],
            "needs_background": "light"
          }
        }
      ]
    },
    {
      "cell_type": "code",
      "metadata": {
        "id": "zjIRUMgB2mCb",
        "outputId": "930650b8-cd2c-4164-ac19-0e6e03991c5b"
      },
      "source": [
        "#Verificar dist normal\n",
        "fig, ax = plt.subplots()\n",
        "stats.probplot(dados2, fit=True, plot=ax)\n",
        "plt.show()"
      ],
      "execution_count": null,
      "outputs": [
        {
          "output_type": "display_data",
          "data": {
            "image/png": "[encoded data removed]",
            "text/plain": [
              "<Figure size 432x288 with 1 Axes>"
            ]
          },
          "metadata": {
            "tags": [],
            "needs_background": "light"
          }
        }
      ]
    },
    {
      "cell_type": "code",
      "metadata": {
        "id": "vbBaU32g2mCb",
        "outputId": "9a49e40d-6e00-42c7-dc12-894fd482c967"
      },
      "source": [
        "print(stats.shapiro(dados2)) #valor em not. cientifica -15, muito baixo. Hipotese pode ser rejeitada\n",
        "print(stats.shapiro(dados)) #valor acima de alfa, nao pode ser rejeitado"
      ],
      "execution_count": null,
      "outputs": [
        {
          "output_type": "stream",
          "text": [
            "ShapiroResult(statistic=0.9624767899513245, pvalue=2.3361839958884302e-15)\n",
            "ShapiroResult(statistic=0.9990639686584473, pvalue=0.9040948152542114)\n"
          ],
          "name": "stdout"
        }
      ]
    }
  ]
}