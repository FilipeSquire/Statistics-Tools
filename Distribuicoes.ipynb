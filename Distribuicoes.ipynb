{
  "nbformat": 4,
  "nbformat_minor": 0,
  "metadata": {
    "kernelspec": {
      "display_name": "Python 3",
      "language": "python",
      "name": "python3"
    },
    "language_info": {
      "codemirror_mode": {
        "name": "ipython",
        "version": 3
      },
      "file_extension": ".py",
      "mimetype": "text/x-python",
      "name": "python",
      "nbconvert_exporter": "python",
      "pygments_lexer": "ipython3",
      "version": "3.8.5"
    },
    "colab": {
      "name": "Distribuicoes.ipynb",
      "provenance": [],
      "include_colab_link": true
    }
  },
  "cells": [
    {
      "cell_type": "markdown",
      "metadata": {
        "id": "view-in-github",
        "colab_type": "text"
      },
      "source": [
        "<a href=\"https://colab.research.google.com/github/FilipeSquire/Statistics-Tools/blob/main/Distribuicoes.ipynb\" target=\"_parent\"><img src=\"https://colab.research.google.com/assets/colab-badge.svg\" alt=\"Open In Colab\"/></a>"
      ]
    },
    {
      "cell_type": "markdown",
      "metadata": {
        "id": "AbNtRq9W2fZv"
      },
      "source": [
        "# Distribuicao T-Student"
      ]
    },
    {
      "cell_type": "code",
      "metadata": {
        "id": "pqfr1SS92fZ1"
      },
      "source": [
        "#Utilizada qdo numero de amostra <30\n",
        "\n",
        "from scipy.stats import t"
      ],
      "execution_count": null,
      "outputs": []
    },
    {
      "cell_type": "markdown",
      "metadata": {
        "id": "JXTIzK1c2fZ2"
      },
      "source": [
        "Media de salario = 75/h. Amostra de 9 funcionarios, desvpad de 10."
      ]
    },
    {
      "cell_type": "code",
      "metadata": {
        "id": "Yza42bQh2fZ2",
        "outputId": "893ec049-3f7e-4940-e23f-1df84a887618"
      },
      "source": [
        "#Qual a probabilidade de selecionar um funcionario e o salario ser menor que 80/h?\n",
        "t.cdf(1.5,8)#1.5 vem da tabela t-student"
      ],
      "execution_count": null,
      "outputs": [
        {
          "output_type": "execute_result",
          "data": {
            "text/plain": [
              "0.9139983540240443"
            ]
          },
          "metadata": {
            "tags": []
          },
          "execution_count": 4
        }
      ]
    },
    {
      "cell_type": "code",
      "metadata": {
        "id": "J3FOjUSn2fZ3",
        "outputId": "0ded2339-9af7-4aa0-c377-c593cf2981f6"
      },
      "source": [
        "#Qual a probabilidade do salario ser maior que 80?\n",
        "t.sf(1.5,8)"
      ],
      "execution_count": null,
      "outputs": [
        {
          "output_type": "execute_result",
          "data": {
            "text/plain": [
              "0.08600164597595565"
            ]
          },
          "metadata": {
            "tags": []
          },
          "execution_count": 5
        }
      ]
    },
    {
      "cell_type": "code",
      "metadata": {
        "id": "-0px_U2t2fZ4",
        "outputId": "66f9ebb3-a0f3-4397-9fe6-c7da02b074ec"
      },
      "source": [
        "#Somatoria dos dados acima\n",
        "t.cdf(1.5,8) - t.sf(1.5,8)"
      ],
      "execution_count": null,
      "outputs": [
        {
          "output_type": "execute_result",
          "data": {
            "text/plain": [
              "0.8279967080480887"
            ]
          },
          "metadata": {
            "tags": []
          },
          "execution_count": 6
        }
      ]
    },
    {
      "cell_type": "markdown",
      "metadata": {
        "id": "FOJTehdE2fZ4"
      },
      "source": [
        "# Distribuicao Binomial"
      ]
    },
    {
      "cell_type": "code",
      "metadata": {
        "id": "oLm3f_Q82fZ5"
      },
      "source": [
        "from scipy.stats import binom"
      ],
      "execution_count": null,
      "outputs": []
    },
    {
      "cell_type": "code",
      "metadata": {
        "id": "uRKbQNOQ2fZ5",
        "outputId": "621aa425-4789-41dc-bdbc-57bc7cba41fa"
      },
      "source": [
        "#Jogar uma moeda 5x, qual a probabilidade de dar cara 3x?\n",
        "# eventos, experimentos, probabilidades\n",
        "prob = binom.pmf(3,5,0.5)\n",
        "prob"
      ],
      "execution_count": null,
      "outputs": [
        {
          "output_type": "execute_result",
          "data": {
            "text/plain": [
              "0.3125"
            ]
          },
          "metadata": {
            "tags": []
          },
          "execution_count": 8
        }
      ]
    },
    {
      "cell_type": "code",
      "metadata": {
        "id": "CNvtfx5N2fZ5",
        "outputId": "117493b0-88f2-438c-df9f-b6317efda2e6"
      },
      "source": [
        "#Passar por 4 sinais de 4 tempos, qual a probabilidade de pegar sinal verde\n",
        "#nenhuma, 1,2,3, ou 4x seguidas?\n",
        "binom.pmf(0,4,0.25)+binom.pmf(1,4,0.25)+binom.pmf(2,4,0.25)+binom.pmf(3,4,0.25)+binom.pmf(4,4,0.25)"
      ],
      "execution_count": null,
      "outputs": [
        {
          "output_type": "execute_result",
          "data": {
            "text/plain": [
              "1.0000000000000002"
            ]
          },
          "metadata": {
            "tags": []
          },
          "execution_count": 9
        }
      ]
    },
    {
      "cell_type": "code",
      "metadata": {
        "id": "ibZReGvT2fZ6",
        "outputId": "ca01af82-793f-44b9-b6c6-2e37557dcebb"
      },
      "source": [
        "#Considerando sinais de dois tempos\n",
        "binom.pmf(4,4,0.5)"
      ],
      "execution_count": null,
      "outputs": [
        {
          "output_type": "execute_result",
          "data": {
            "text/plain": [
              "0.0625"
            ]
          },
          "metadata": {
            "tags": []
          },
          "execution_count": 10
        }
      ]
    },
    {
      "cell_type": "code",
      "metadata": {
        "id": "9ww_lTa42fZ6",
        "outputId": "a3981249-28d3-45e7-d856-1a8600b0c3c8"
      },
      "source": [
        "#Probabilidade acumulativa\n",
        "binom.cdf(4,4,0.25)"
      ],
      "execution_count": null,
      "outputs": [
        {
          "output_type": "execute_result",
          "data": {
            "text/plain": [
              "1.0"
            ]
          },
          "metadata": {
            "tags": []
          },
          "execution_count": 11
        }
      ]
    },
    {
      "cell_type": "code",
      "metadata": {
        "id": "tdCMr7Rw2fZ6",
        "outputId": "be086456-0c14-4202-a14c-f3adccefb40a"
      },
      "source": [
        "#Concurso com 12 questoes, qual a probabilidade de acertar 7 considerando \n",
        "#q cada questao tem 4 alternativas?\n",
        "binom.pmf(7,12,0.25) * 100"
      ],
      "execution_count": null,
      "outputs": [
        {
          "output_type": "execute_result",
          "data": {
            "text/plain": [
              "1.1471271514892574"
            ]
          },
          "metadata": {
            "tags": []
          },
          "execution_count": 12
        }
      ]
    },
    {
      "cell_type": "code",
      "metadata": {
        "id": "Towa7q1Y2fZ6",
        "outputId": "9a6bec6e-fa88-4179-a763-7627508675d7"
      },
      "source": [
        "#Probabilidade de acertar 12 questoes\n",
        "binom.pmf(12,12,0.25) * 100"
      ],
      "execution_count": null,
      "outputs": [
        {
          "output_type": "execute_result",
          "data": {
            "text/plain": [
              "5.960464477539072e-06"
            ]
          },
          "metadata": {
            "tags": []
          },
          "execution_count": 14
        }
      ]
    },
    {
      "cell_type": "markdown",
      "metadata": {
        "id": "Qab4xoZq2fZ7"
      },
      "source": [
        "# Distribuicao de Poisson"
      ]
    },
    {
      "cell_type": "code",
      "metadata": {
        "id": "MIvBVYo62fZ7"
      },
      "source": [
        "#Mede a probabilidade de um evento em uma distribuicao de tempo\n",
        "\n",
        "from scipy.stats import poisson"
      ],
      "execution_count": null,
      "outputs": []
    },
    {
      "cell_type": "markdown",
      "metadata": {
        "id": "RK4WieT32fZ7"
      },
      "source": [
        "Media de acidentes de carro é 2 por dia"
      ]
    },
    {
      "cell_type": "code",
      "metadata": {
        "id": "q2vlVc3X2fZ7",
        "outputId": "bef57cc6-20b9-4fc7-f97d-bb2da049178e"
      },
      "source": [
        "#Qual a probabilidade de ocorrer 3 acidentes por dia?\n",
        "poisson.pmf(3,2)#prob pontual"
      ],
      "execution_count": null,
      "outputs": [
        {
          "output_type": "execute_result",
          "data": {
            "text/plain": [
              "0.18044704431548356"
            ]
          },
          "metadata": {
            "tags": []
          },
          "execution_count": 16
        }
      ]
    },
    {
      "cell_type": "code",
      "metadata": {
        "id": "8s7AnFA22fZ8",
        "outputId": "732c93ce-a0de-4d3e-df58-fe00c2f2589f"
      },
      "source": [
        "#Qual a possibilidade de ocorrer 3 ou menos no dia?\n",
        "poisson.cdf(3,2)#porb cumulativa"
      ],
      "execution_count": null,
      "outputs": [
        {
          "output_type": "execute_result",
          "data": {
            "text/plain": [
              "0.857123460498547"
            ]
          },
          "metadata": {
            "tags": []
          },
          "execution_count": 17
        }
      ]
    },
    {
      "cell_type": "code",
      "metadata": {
        "id": "WnlLGo6j2fZ8",
        "outputId": "ad35c010-cd82-46ba-aecd-87d69f22c205"
      },
      "source": [
        "#Qual a probabilidade de ocorrer mais de 3 no dia?\n",
        "poisson.sf(3,2)#prob maior q"
      ],
      "execution_count": null,
      "outputs": [
        {
          "output_type": "execute_result",
          "data": {
            "text/plain": [
              "0.14287653950145296"
            ]
          },
          "metadata": {
            "tags": []
          },
          "execution_count": 18
        }
      ]
    }
  ]
}