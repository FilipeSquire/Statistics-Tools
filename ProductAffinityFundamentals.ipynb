{
  "nbformat": 4,
  "nbformat_minor": 0,
  "metadata": {
    "colab": {
      "name": "ProductAffinityFundamentals",
      "provenance": [],
      "authorship_tag": "ABX9TyM/coo1uGyzNGDGV60lcOUx",
      "include_colab_link": true
    },
    "kernelspec": {
      "name": "python3",
      "display_name": "Python 3"
    },
    "language_info": {
      "name": "python"
    }
  },
  "cells": [
    {
      "cell_type": "markdown",
      "metadata": {
        "id": "view-in-github",
        "colab_type": "text"
      },
      "source": [
        "<a href=\"https://colab.research.google.com/github/FilipeSquire/Statistics-Tools/blob/main/ProductAffinityFundamentals.ipynb\" target=\"_parent\"><img src=\"https://colab.research.google.com/assets/colab-badge.svg\" alt=\"Open In Colab\"/></a>"
      ]
    },
    {
      "cell_type": "markdown",
      "metadata": {
        "id": "zqQEtxVs0GNU"
      },
      "source": [
        "affinity Analysis or Market Basket Analysis finds patterns to determine connections between purchases\n",
        "in order that stores can increase their cross-selling potential\n",
        "\n",
        " itemset -> group of items with 2+ items in it\n",
        " Transactions -> main data source of affinity analysis. Each transaction has an ID, and it contains an itemset\n",
        " Support -> determines how popular an itemset is.  Support = Freq(i1, i2) of certain item / N\n",
        "\n",
        " Confidence -> likelihood of certain items to be purchased together. P(X|Y) = Support (X,Y) / P(X)\n",
        "\n",
        " Lift -> how likely Y is purchased when X is purchased while controlling for how popular butter is.\n",
        "         Lift range is [o, +infinity]. When lift = 1, X and Y are independent.\n",
        "         When lift > 1 it means that butter is likely to be purchased together with bread\n",
        "         Lift(X > Y) = Support(X,Y)/Support(X)*Support(Y) = P(X,Y)/P(X)*P(Y)\n",
        "\n",
        "Conviction -> ratio of expected frequency that X occurs without Y\n",
        " Conviction(X > Y) = 1 - Support(X) / 1 - Confidence(X > Y)\n",
        "\n",
        "---\n",
        "\n"
      ]
    },
    {
      "cell_type": "markdown",
      "metadata": {
        "id": "pqwopbxg0TOr"
      },
      "source": [
        "Creating a dataset for our practice exercise"
      ]
    },
    {
      "cell_type": "code",
      "metadata": {
        "id": "NbzNmk_e0UuS"
      },
      "source": [
        "basket=[['bread','butter','wine','bananas','coffee','carrots'],\n",
        "          ['tomatoes','onions','cheese','milk','potatoes'],\n",
        "          ['beer','chips','asparagus','salsa','milk','apples'],\n",
        "          ['olive oil','bread','butter','tomatoes','steak','carrots'],\n",
        "          ['tomatoes','onions','chips','wine','ketchup','orange juice'],\n",
        "          ['bread','butter','beer','chips','milk'],\n",
        "          ['butter','tomatoes','carrots','coffee','sugar'],\n",
        "          ['tomatoes','onions','cheese','milk','potatoes'],\n",
        "          ['bread','butter','ketchup','coffee','chicken wings'],\n",
        "          ['butter','beer','chips','asparagus','apples'],\n",
        "          ['tomatoes','onion','beer','chips','milk','coffee']]"
      ],
      "execution_count": 1,
      "outputs": []
    },
    {
      "cell_type": "markdown",
      "metadata": {
        "id": "gtkYkeVW0X-q"
      },
      "source": [
        "Lets create a function to do the calculations"
      ]
    },
    {
      "cell_type": "code",
      "metadata": {
        "id": "Brfv1Jzg0FWa"
      },
      "source": [
        "def frequency_items (x,y):\n",
        "    fx=sum([x in i for i in basket])\n",
        "    fy=sum([y in i for i in basket])\n",
        "    \n",
        "    fxy = sum([all(z in i for z in [x,y]) for i in basket])\n",
        "    \n",
        "    support = fxy/len(basket)\n",
        "    confidence = support/(fx/len(basket))\n",
        "    lift = confidence / (fy/len(basket))\n",
        "    \n",
        "    if confidence ==1:\n",
        "        conviction = 0\n",
        "    else:\n",
        "        conviction=(1-(fy/len(basket)))/(1-confidence)\n",
        "        \n",
        "    print('Suppport = {}'.format(round(support,2)))\n",
        "    print('Confidence = {}'.format(round(confidence,2)))\n",
        "    print('Lift = {}'.format(round(lift,2)))\n",
        "    print('Conviction= {}'.format(round(conviction,2)))\n",
        "    \n",
        "    print(fxy)"
      ],
      "execution_count": 4,
      "outputs": []
    },
    {
      "cell_type": "code",
      "metadata": {
        "colab": {
          "base_uri": "https://localhost:8080/"
        },
        "id": "JtrfvMvU0bWu",
        "outputId": "1963d2d5-fe33-4b8d-bb18-cccb15549df1"
      },
      "source": [
        "frequency_items('bread','butter')"
      ],
      "execution_count": 5,
      "outputs": [
        {
          "output_type": "stream",
          "text": [
            "Suppport = 0.36\n",
            "Confidence = 1.0\n",
            "Lift = 1.83\n",
            "Conviction= 0\n",
            "4\n"
          ],
          "name": "stdout"
        }
      ]
    },
    {
      "cell_type": "markdown",
      "metadata": {
        "id": "_dpKCHHL0i1i"
      },
      "source": [
        "Reading it: \n",
        "\n",
        "36% of transactions contain both bread and butter.\n",
        "\n",
        "Confidence indicates that butter is always purchased whenever bread is purchased\n",
        "\n",
        "Lift > 1 means it's more likely that bread and butter will be bought together than individually\n"
      ]
    }
  ]
}